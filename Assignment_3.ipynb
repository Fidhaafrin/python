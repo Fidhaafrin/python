{
  "nbformat": 4,
  "nbformat_minor": 0,
  "metadata": {
    "colab": {
      "provenance": []
    },
    "kernelspec": {
      "name": "python3",
      "display_name": "Python 3"
    },
    "language_info": {
      "name": "python"
    }
  },
  "cells": [
    {
      "cell_type": "code",
      "execution_count": 1,
      "metadata": {
        "colab": {
          "base_uri": "https://localhost:8080/"
        },
        "id": "VTsKyTaAEh9h",
        "outputId": "299f04ca-cbc8-4f00-9efd-284b46f54b87"
      },
      "outputs": [
        {
          "output_type": "stream",
          "name": "stdout",
          "text": [
            "[2, 4, 5]\n"
          ]
        }
      ],
      "source": [
        "list1 = [1, 2, 3, 4, 5]\n",
        "list2 = [5, 6, 4, 8, 2]\n",
        "common_elements = set(list1) & set(list2)\n",
        "print(list(common_elements))"
      ]
    },
    {
      "cell_type": "code",
      "source": [
        "a=[1,2,3,4,5,6,7,8,9,10]\n",
        "\n",
        "for i in range(len(a)):\n",
        "    if a[i]%2==0:\n",
        "        print(a[i])\n",
        ""
      ],
      "metadata": {
        "colab": {
          "base_uri": "https://localhost:8080/"
        },
        "id": "j-mTDk20E3vT",
        "outputId": "627f662c-0bab-4300-c577-e0b91c538d85"
      },
      "execution_count": 2,
      "outputs": [
        {
          "output_type": "stream",
          "name": "stdout",
          "text": [
            "2\n",
            "4\n",
            "6\n",
            "8\n",
            "10\n"
          ]
        }
      ]
    },
    {
      "cell_type": "code",
      "source": [
        "s = [\"apple\", \"cat\", \"dog\", \"banana\", \"pie\"]\n",
        "for i in s:\n",
        "    if len(i) > 3:\n",
        "        print(i)"
      ],
      "metadata": {
        "colab": {
          "base_uri": "https://localhost:8080/"
        },
        "id": "R3jdGrE8E6xp",
        "outputId": "74e273ed-204d-4999-d562-2ae9c8608f96"
      },
      "execution_count": 3,
      "outputs": [
        {
          "output_type": "stream",
          "name": "stdout",
          "text": [
            "apple\n",
            "banana\n"
          ]
        }
      ]
    },
    {
      "cell_type": "code",
      "source": [
        "n_list = [1, -1, 2, -5, 3, -8, 4, 5]\n",
        "\n",
        "for i in range(len(n_list)):\n",
        "    if n_list[i] <0:\n",
        "        n_list[i] = 0\n",
        "print(n_list)"
      ],
      "metadata": {
        "colab": {
          "base_uri": "https://localhost:8080/"
        },
        "id": "T-JKYxXfFAez",
        "outputId": "348699d6-8228-4b5f-8cca-49844ad918f6"
      },
      "execution_count": 4,
      "outputs": [
        {
          "output_type": "stream",
          "name": "stdout",
          "text": [
            "[1, 0, 2, 0, 3, 0, 4, 5]\n"
          ]
        }
      ]
    },
    {
      "cell_type": "code",
      "source": [
        "list1 = [1, 2, 3, 4, 5, 6, 7, 8, 9, 10]\n",
        "list2 = []\n",
        "\n",
        "for i in range(len(list1)):\n",
        "    if list1[i]%2!=0:\n",
        "        list2.append(list1[i]**2)\n",
        "print(list2)"
      ],
      "metadata": {
        "colab": {
          "base_uri": "https://localhost:8080/"
        },
        "id": "RYR73tatFDUf",
        "outputId": "0e4524cc-f520-47d8-993a-24399eac263c"
      },
      "execution_count": 5,
      "outputs": [
        {
          "output_type": "stream",
          "name": "stdout",
          "text": [
            "[1, 9, 25, 49, 81]\n"
          ]
        }
      ]
    }
  ]
}