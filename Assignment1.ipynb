{
  "nbformat": 4,
  "nbformat_minor": 0,
  "metadata": {
    "colab": {
      "provenance": []
    },
    "kernelspec": {
      "name": "python3",
      "display_name": "Python 3"
    },
    "language_info": {
      "name": "python"
    }
  },
  "cells": [
    {
      "cell_type": "code",
      "execution_count": 1,
      "metadata": {
        "colab": {
          "base_uri": "https://localhost:8080/"
        },
        "id": "fxYyUO42LLx6",
        "outputId": "7d45ccad-230e-4d55-9070-bdb5a9fd8879"
      },
      "outputs": [
        {
          "output_type": "stream",
          "name": "stdout",
          "text": [
            "Enter the length of the rectangle: 7\n",
            "Enter the breadth of the rectangle: 8\n",
            "It is not a square.\n"
          ]
        }
      ],
      "source": [
        "length = int(input(\"Enter the length of the rectangle: \"))\n",
        "breadth = int(input(\"Enter the breadth of the rectangle: \"))\n",
        "\n",
        "if length == breadth:\n",
        "    print(\"It is a square.\")\n",
        "else:\n",
        "    print(\"It is not a square.\")"
      ]
    },
    {
      "cell_type": "code",
      "source": [
        "salary = int(input(\"Enter your salary: \"))\n",
        "years_of_service = int(input(\"Enter your years of service: \"))\n",
        "\n",
        "if years_of_service > 5:\n",
        "    bonus = salary * 0.05\n",
        "    print(f\"Net bonus amount: {bonus}\")\n",
        "else:\n",
        "    print(\"No bonus awarded.\")"
      ],
      "metadata": {
        "colab": {
          "base_uri": "https://localhost:8080/"
        },
        "id": "kaT_LEW3Lcmg",
        "outputId": "3e88e7ce-5436-435d-c885-436040d01f55"
      },
      "execution_count": 2,
      "outputs": [
        {
          "output_type": "stream",
          "name": "stdout",
          "text": [
            "Enter your salary: 800\n",
            "Enter your years of service: 8\n",
            "Net bonus amount: 40.0\n"
          ]
        }
      ]
    },
    {
      "cell_type": "code",
      "source": [
        "number=int(input(\"Enter a number: \"))\n",
        "if number%2==0:\n",
        "    print(\"The number is even.\")\n",
        "else:\n",
        "    print(\"The number is odd.\")"
      ],
      "metadata": {
        "colab": {
          "base_uri": "https://localhost:8080/"
        },
        "id": "jJ4yi0t0LhgK",
        "outputId": "7b5985af-a2cb-424f-e4a0-8d1d3620ad5d"
      },
      "execution_count": 3,
      "outputs": [
        {
          "output_type": "stream",
          "name": "stdout",
          "text": [
            "Enter a number: 7\n",
            "The number is odd.\n"
          ]
        }
      ]
    },
    {
      "cell_type": "code",
      "source": [
        "first_number = int(input(\"Enter the first number: \"))\n",
        "second_number = int(input(\"Enter the second number: \"))\n",
        "\n",
        "if first_number > second_number:\n",
        "    print(\"The first number \",first_number,\" is greater.\")\n",
        "else:\n",
        "    print(\"The second number \",second_number,\" is greater.\")"
      ],
      "metadata": {
        "colab": {
          "base_uri": "https://localhost:8080/"
        },
        "id": "_zrOha94Lldj",
        "outputId": "ae3ae917-0acf-4723-b94b-8b658cb80815"
      },
      "execution_count": 4,
      "outputs": [
        {
          "output_type": "stream",
          "name": "stdout",
          "text": [
            "Enter the first number: 5\n",
            "Enter the second number: 7\n",
            "The second number  7  is greater.\n"
          ]
        }
      ]
    },
    {
      "cell_type": "code",
      "source": [
        "mark=int(input(\"Enter your mark: \"))\n",
        "if mark>80:\n",
        "    print(\"A\")\n",
        "elif mark>60 and mark<=80:\n",
        "    print(\"B\")\n",
        "elif mark>50 and mark<=60:\n",
        "    print(\"C\")\n",
        "elif mark>45 and mark<=50:\n",
        "    print(\"D\")\n",
        "elif mark>25 and mark<=45:\n",
        "    print(\"E\")\n",
        "else:\n",
        "    print(\"F\")"
      ],
      "metadata": {
        "colab": {
          "base_uri": "https://localhost:8080/"
        },
        "id": "UsUMntHpLqFJ",
        "outputId": "04497b8a-cd6d-4a2b-d2aa-8a93e06a5aba"
      },
      "execution_count": 5,
      "outputs": [
        {
          "output_type": "stream",
          "name": "stdout",
          "text": [
            "Enter your mark: 70\n",
            "B\n"
          ]
        }
      ]
    },
    {
      "cell_type": "code",
      "source": [
        "age1 = int(input(\"Enter the age of the first person: \"))\n",
        "age2 = int(input(\"Enter the age of the second person: \"))\n",
        "age3 = int(input(\"Enter the age of the third person: \"))\n",
        "\n",
        "if age1 > age2 and age1 > age3:\n",
        "    print(\"The first person is the oldest.\")\n",
        "elif age2 > age1 and age2 > age3:\n",
        "    print(\"The second person is the oldest.\")\n",
        "else:\n",
        "    print(\"The third person is the oldest.\")"
      ],
      "metadata": {
        "colab": {
          "base_uri": "https://localhost:8080/"
        },
        "id": "bWFXuhk0LuHS",
        "outputId": "87b3b7a0-cfbe-4a43-9d07-24c2c084918f"
      },
      "execution_count": 6,
      "outputs": [
        {
          "output_type": "stream",
          "name": "stdout",
          "text": [
            "Enter the age of the first person: 24\n",
            "Enter the age of the second person: 65\n",
            "Enter the age of the third person: 78\n",
            "The third person is the oldest.\n"
          ]
        }
      ]
    },
    {
      "cell_type": "code",
      "source": [
        "number_of_class_held = int(input(\"Enter the number of classes held: \"))\n",
        "number_of_class_attended = int(input(\"Enter the number of classes attended: \"))\n",
        "\n",
        "atten=(number_of_class_attended/number_of_class_held)*100\n",
        "print(\"Your attendence is: \",atten)\n",
        "\n",
        "if atten>=75:\n",
        "    print(\"You are allowed to sit in the exam.\")\n",
        "else:\n",
        "    print(\"You are not allowed to sit in the exam.\")"
      ],
      "metadata": {
        "colab": {
          "base_uri": "https://localhost:8080/"
        },
        "id": "iXOS0WU7L0c6",
        "outputId": "41d03b00-3cf7-4e58-f610-a1f9910efc66"
      },
      "execution_count": 7,
      "outputs": [
        {
          "output_type": "stream",
          "name": "stdout",
          "text": [
            "Enter the number of classes held: 88\n",
            "Enter the number of classes attended: 89\n",
            "Your attendence is:  101.13636363636364\n",
            "You are allowed to sit in the exam.\n"
          ]
        }
      ]
    }
  ]
}