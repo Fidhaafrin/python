{
  "nbformat": 4,
  "nbformat_minor": 0,
  "metadata": {
    "colab": {
      "provenance": []
    },
    "kernelspec": {
      "name": "python3",
      "display_name": "Python 3"
    },
    "language_info": {
      "name": "python"
    }
  },
  "cells": [
    {
      "cell_type": "code",
      "execution_count": 1,
      "metadata": {
        "colab": {
          "base_uri": "https://localhost:8080/"
        },
        "id": "Aq8hntTiGNKT",
        "outputId": "ff68383f-6bd3-4754-e252-305f28d16706"
      },
      "outputs": [
        {
          "output_type": "stream",
          "name": "stdout",
          "text": [
            "54 43 2 1 5 "
          ]
        }
      ],
      "source": [
        "arr=[54, 43, 2, 1, 5]\n",
        "\n",
        "for i in range(len(arr)):\n",
        "    print(arr[i], end=\" \")"
      ]
    },
    {
      "cell_type": "code",
      "source": [
        "arr=[54, 43, 2, 1, 5]\n",
        "sum=0\n",
        "\n",
        "for i in range(len(arr)):\n",
        "    sum +=arr[i]\n",
        "print(sum)"
      ],
      "metadata": {
        "colab": {
          "base_uri": "https://localhost:8080/"
        },
        "id": "tAdGo-eTGswc",
        "outputId": "343d63b7-fb7f-4d02-f5c8-e0b742a3ca5d"
      },
      "execution_count": 2,
      "outputs": [
        {
          "output_type": "stream",
          "name": "stdout",
          "text": [
            "105\n"
          ]
        }
      ]
    },
    {
      "cell_type": "code",
      "source": [
        "list1=[]\n",
        "a=int(input(\"Enter the elements: \"))\n",
        "b=int(input(\"Enter the elements: \"))\n",
        "c=int(input(\"Enter the elements: \"))\n",
        "\n",
        "list1.append(a)\n",
        "list1.append(b)\n",
        "list1.append(c)\n",
        "print(list1)"
      ],
      "metadata": {
        "colab": {
          "base_uri": "https://localhost:8080/"
        },
        "id": "5ayaHHChGv85",
        "outputId": "766b2c64-5ba5-462b-a7d8-d710edffd389"
      },
      "execution_count": 3,
      "outputs": [
        {
          "output_type": "stream",
          "name": "stdout",
          "text": [
            "Enter the elements: 3\n",
            "Enter the elements: 9\n",
            "Enter the elements: 8\n",
            "[3, 9, 8]\n"
          ]
        }
      ]
    },
    {
      "cell_type": "code",
      "source": [
        "arr=[-12, 8, -7, 6, 12, -9, 14]\n",
        "\n",
        "non_neg_int=[]\n",
        "\n",
        "sum_non=0\n",
        "\n",
        "for i in range(len(arr)):\n",
        "    if arr[i]>=0:\n",
        "        non_neg_int.append(arr[i])\n",
        "\n",
        "print(non_neg_int)\n",
        "for j in range(len(non_neg_int)):\n",
        "    sum_non +=non_neg_int[j]\n",
        "\n",
        "print(\"Sum =\",sum_non)\n",
        "\n",
        "avg=sum_non/len(non_neg_int)\n",
        "print(\"Avg = \",avg)"
      ],
      "metadata": {
        "colab": {
          "base_uri": "https://localhost:8080/"
        },
        "id": "tai9kZSFG2S3",
        "outputId": "9784f8d3-5660-4d50-97f3-6fc668417741"
      },
      "execution_count": 4,
      "outputs": [
        {
          "output_type": "stream",
          "name": "stdout",
          "text": [
            "[8, 6, 12, 14]\n",
            "Sum = 40\n",
            "Avg =  10.0\n"
          ]
        }
      ]
    },
    {
      "cell_type": "code",
      "source": [
        "n = int(input(\"Enter a number: \"))\n",
        "sum_factors = 0\n",
        "\n",
        "for i in range(1, n):\n",
        "    if n % i == 0:\n",
        "        sum_factors += i\n",
        "\n",
        "if sum_factors == n:\n",
        "    print(\"true\")\n",
        "else:\n",
        "    print(\"false\")"
      ],
      "metadata": {
        "colab": {
          "base_uri": "https://localhost:8080/"
        },
        "id": "w1cLhVWlG3p_",
        "outputId": "fcb1d8aa-a967-4e38-e003-80c2d4425dc6"
      },
      "execution_count": 5,
      "outputs": [
        {
          "output_type": "stream",
          "name": "stdout",
          "text": [
            "Enter a number: 6\n",
            "true\n"
          ]
        }
      ]
    },
    {
      "cell_type": "code",
      "source": [
        "stduents = {\n",
        "    \"student1\": {\n",
        "        \"name\": \"John\",\n",
        "        \"age\": 21,\n",
        "        \"courses\": [\"Maths\", \"CompScience\"]\n",
        "    },\n",
        "    \"student2\": {\n",
        "        \"name\": \"Jane\",\n",
        "        \"age\": 22,\n",
        "        \"courses\": [\"English\", \"History\"]\n",
        "    },\n",
        "    \"student3\": {\n",
        "        \"name\": \"Dave\",\n",
        "        \"age\": 20,\n",
        "        \"courses\": [\"Biology\", \"Chemistry\"]\n",
        "    }\n",
        "}\n",
        "\n",
        "print(stduents['student1']['courses'])"
      ],
      "metadata": {
        "colab": {
          "base_uri": "https://localhost:8080/"
        },
        "id": "dCFopup1G95-",
        "outputId": "7a4cf4bc-8b68-4bde-f9d1-de12f88f5c69"
      },
      "execution_count": 6,
      "outputs": [
        {
          "output_type": "stream",
          "name": "stdout",
          "text": [
            "['Maths', 'CompScience']\n"
          ]
        }
      ]
    },
    {
      "cell_type": "code",
      "source": [
        "def max_num(a, b, c):\n",
        "    if a >= b and a >= c:\n",
        "        print(\"a is the maximum number\",a)\n",
        "    elif b >= a and b >= c:\n",
        "        print(\"b is the maximum number\",b)\n",
        "    else:\n",
        "        print(\"c is the maximum number\",c)\n",
        "\n",
        "max_num(5, 10, 3)"
      ],
      "metadata": {
        "colab": {
          "base_uri": "https://localhost:8080/"
        },
        "id": "1DCrs2S0G_gO",
        "outputId": "670112b8-c554-493e-df2e-51bc1708ca42"
      },
      "execution_count": 7,
      "outputs": [
        {
          "output_type": "stream",
          "name": "stdout",
          "text": [
            "b is the maximum number 10\n"
          ]
        }
      ]
    },
    {
      "cell_type": "code",
      "source": [
        "def is_prime(n):\n",
        "    if n > 1:\n",
        "        for i in range(2, n):\n",
        "            if n % i == 0:\n",
        "                print(n, \"is not a prime number\")\n",
        "                break\n",
        "        else:\n",
        "            print(n, \"is a prime number\")\n",
        "    else:\n",
        "        print(n, \"is not a prime number\")\n",
        "\n",
        "is_prime(11)"
      ],
      "metadata": {
        "colab": {
          "base_uri": "https://localhost:8080/"
        },
        "id": "yN2uy0gVHCaY",
        "outputId": "5ed1472c-1e6b-4d43-945b-8caeccf51ca6"
      },
      "execution_count": 8,
      "outputs": [
        {
          "output_type": "stream",
          "name": "stdout",
          "text": [
            "11 is a prime number\n"
          ]
        }
      ]
    },
    {
      "cell_type": "code",
      "source": [
        "def factorial(n):\n",
        "    factorial = 1\n",
        "    for i in range(1, n + 1):\n",
        "        factorial *= i\n",
        "    print(\"The factorial of\", n, \"is\", factorial)\n",
        "\n",
        "factorial(5)"
      ],
      "metadata": {
        "colab": {
          "base_uri": "https://localhost:8080/"
        },
        "id": "RB0zYrUkHHtg",
        "outputId": "a9040210-af5e-4440-f210-e3a039537e0d"
      },
      "execution_count": 9,
      "outputs": [
        {
          "output_type": "stream",
          "name": "stdout",
          "text": [
            "The factorial of 5 is 120\n"
          ]
        }
      ]
    },
    {
      "cell_type": "code",
      "source": [
        "def fibonacci(n):\n",
        "    a=0\n",
        "    b=1\n",
        "    list1 = []\n",
        "\n",
        "    for i in range(n):\n",
        "        list1.append(a)\n",
        "        c=a+b\n",
        "        a=b\n",
        "        b=c\n",
        "    print(list1)\n",
        "\n",
        "fibonacci(10)"
      ],
      "metadata": {
        "colab": {
          "base_uri": "https://localhost:8080/"
        },
        "id": "DRdkICw3HI6k",
        "outputId": "1379440a-87ad-4755-ee5e-88b2d209ba5f"
      },
      "execution_count": 10,
      "outputs": [
        {
          "output_type": "stream",
          "name": "stdout",
          "text": [
            "[0, 1, 1, 2, 3, 5, 8, 13, 21, 34]\n"
          ]
        }
      ]
    },
    {
      "cell_type": "code",
      "source": [
        "def sum_list(lst):\n",
        "    total = 0\n",
        "    for num in lst:\n",
        "        total += num\n",
        "    print(\"sum of the list =\",total)\n",
        "\n",
        "sum_list([1, 2, 3, 4, 5])"
      ],
      "metadata": {
        "colab": {
          "base_uri": "https://localhost:8080/"
        },
        "id": "bYfRwkUJHL_R",
        "outputId": "57e1358f-9227-4f9b-ebc4-d81a4c123e37"
      },
      "execution_count": 11,
      "outputs": [
        {
          "output_type": "stream",
          "name": "stdout",
          "text": [
            "sum of the list = 15\n"
          ]
        }
      ]
    },
    {
      "cell_type": "code",
      "source": [
        "\n",
        "def mult_list(lst):\n",
        "    product = 1\n",
        "    for num in lst:\n",
        "        product *= num\n",
        "    print(\"multiplication of the list =\",product)\n",
        "\n",
        "mult_list([1, 2, 3, 4, 5])"
      ],
      "metadata": {
        "colab": {
          "base_uri": "https://localhost:8080/"
        },
        "id": "LYW5jjntHPmK",
        "outputId": "4004b0e5-a36a-4b86-ae31-62fb45f45b08"
      },
      "execution_count": 12,
      "outputs": [
        {
          "output_type": "stream",
          "name": "stdout",
          "text": [
            "multiplication of the list = 120\n"
          ]
        }
      ]
    },
    {
      "cell_type": "code",
      "source": [
        "string = input(\"Enter a string: \")\n",
        "n=0\n",
        "print(\"Entered string is:\",string)\n",
        "for i in string:\n",
        "    if i==i.upper():\n",
        "        n+=1\n",
        "\n",
        "print(\"Number of uppercase letters =\",n)"
      ],
      "metadata": {
        "colab": {
          "base_uri": "https://localhost:8080/"
        },
        "id": "PtQ_17n6HTZA",
        "outputId": "7d168a33-1c9d-490e-cd43-d3845d83064e"
      },
      "execution_count": 13,
      "outputs": [
        {
          "output_type": "stream",
          "name": "stdout",
          "text": [
            "Enter a string: 8\n",
            "Entered string is: 8\n",
            "Number of uppercase letters = 1\n"
          ]
        }
      ]
    },
    {
      "cell_type": "code",
      "source": [
        "def max_num(a, b, c):\n",
        "    if a >= b and a >= c:\n",
        "        print(\"a is the maximum number\",a)\n",
        "    elif b >= a and b >= c:\n",
        "        print(\"b is the maximum number\",b)\n",
        "    else:\n",
        "        print(\"c is the maximum number\",c)\n",
        "\n",
        "a=int(input(\"Enter first number: \"))\n",
        "b=int(input(\"Enter second number: \"))\n",
        "c=int(input(\"Enter third number: \"))\n",
        "\n",
        "max_num(a, b, c)"
      ],
      "metadata": {
        "colab": {
          "base_uri": "https://localhost:8080/"
        },
        "id": "2kxI2s3rHYU8",
        "outputId": "70189bd3-842a-4054-d656-d868d6e5ee93"
      },
      "execution_count": 14,
      "outputs": [
        {
          "output_type": "stream",
          "name": "stdout",
          "text": [
            "Enter first number: 7\n",
            "Enter second number: 9\n",
            "Enter third number: 9\n",
            "b is the maximum number 9\n"
          ]
        }
      ]
    },
    {
      "cell_type": "code",
      "source": [
        "def is_palindrome(s):\n",
        "    if s == s[::-1]:\n",
        "        print(\"Palindrome\")\n",
        "    else:\n",
        "        print(\"Not a palindrome\")\n",
        "\n",
        "s = input(\"Enter a string: \")\n",
        "print(\"the entered string is:\",s)\n",
        "is_palindrome(s)"
      ],
      "metadata": {
        "colab": {
          "base_uri": "https://localhost:8080/"
        },
        "id": "ngY6KfdSHdh3",
        "outputId": "ffff39c7-de8d-49bc-8a2e-9c999c463cc6"
      },
      "execution_count": 15,
      "outputs": [
        {
          "output_type": "stream",
          "name": "stdout",
          "text": [
            "Enter a string: 7\n",
            "the entered string is: 7\n",
            "Palindrome\n"
          ]
        }
      ]
    },
    {
      "cell_type": "code",
      "source": [
        "def factors(n):\n",
        "     for i in range(1, n + 1):\n",
        "         if n % i == 0:\n",
        "             print(i, end=\" \")\n",
        "\n",
        "factors(20)"
      ],
      "metadata": {
        "colab": {
          "base_uri": "https://localhost:8080/"
        },
        "id": "BW3lU_VxHham",
        "outputId": "14c836b2-5917-488e-8b59-88a8a72ce0e7"
      },
      "execution_count": 16,
      "outputs": [
        {
          "output_type": "stream",
          "name": "stdout",
          "text": [
            "1 2 4 5 10 20 "
          ]
        }
      ]
    }
  ]
}