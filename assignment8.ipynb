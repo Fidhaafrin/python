{
  "nbformat": 4,
  "nbformat_minor": 0,
  "metadata": {
    "colab": {
      "provenance": []
    },
    "kernelspec": {
      "name": "python3",
      "display_name": "Python 3"
    },
    "language_info": {
      "name": "python"
    }
  },
  "cells": [
    {
      "cell_type": "code",
      "execution_count": 1,
      "metadata": {
        "colab": {
          "base_uri": "https://localhost:8080/"
        },
        "id": "OlJj5mpPd4i3",
        "outputId": "9f62c000-ade2-4c9f-eae7-51034242c80f"
      },
      "outputs": [
        {
          "output_type": "stream",
          "name": "stdout",
          "text": [
            "[1 2 3 4]\n",
            "1\n",
            "(4,)\n"
          ]
        }
      ],
      "source": [
        "import pandas as pd\n",
        "import numpy as np\n",
        "\n",
        "d1= np.array([1,2,3,4])\n",
        "\n",
        "print(d1)\n",
        "\n",
        "print(d1.ndim)\n",
        "print(d1.shape)"
      ]
    },
    {
      "cell_type": "code",
      "source": [
        "d2= np.array([[1,2,3],[4,5,6],\n",
        "            [7,8,9],[10,11,12]])\n",
        "\n",
        "print(d2)\n",
        "print(d1.ndim)\n",
        "print(d1.shape)"
      ],
      "metadata": {
        "colab": {
          "base_uri": "https://localhost:8080/"
        },
        "id": "vw9UHPCreoli",
        "outputId": "202c0f91-32ea-4636-bd69-db904b59196c"
      },
      "execution_count": 2,
      "outputs": [
        {
          "output_type": "stream",
          "name": "stdout",
          "text": [
            "[[ 1  2  3]\n",
            " [ 4  5  6]\n",
            " [ 7  8  9]\n",
            " [10 11 12]]\n",
            "1\n",
            "(4,)\n"
          ]
        }
      ]
    },
    {
      "cell_type": "code",
      "source": [
        "d3= np.array([[[1,2,3],[4,5,6]],\n",
        "             [[7,8,9],[10,11,12]],\n",
        "             [[13,14,15],[16,17,18]]])\n",
        "\n",
        "print(d3)\n",
        "print(d1.ndim)\n",
        "print(d1.shape)"
      ],
      "metadata": {
        "colab": {
          "base_uri": "https://localhost:8080/"
        },
        "id": "6RYDHxh6esaz",
        "outputId": "0976fad2-024c-4215-8435-eadf329f0e45"
      },
      "execution_count": 3,
      "outputs": [
        {
          "output_type": "stream",
          "name": "stdout",
          "text": [
            "[[[ 1  2  3]\n",
            "  [ 4  5  6]]\n",
            "\n",
            " [[ 7  8  9]\n",
            "  [10 11 12]]\n",
            "\n",
            " [[13 14 15]\n",
            "  [16 17 18]]]\n",
            "1\n",
            "(4,)\n"
          ]
        }
      ]
    },
    {
      "cell_type": "code",
      "source": [
        "\n",
        "np.arange(10,50,5)"
      ],
      "metadata": {
        "colab": {
          "base_uri": "https://localhost:8080/"
        },
        "id": "WA6Q4JEwewOL",
        "outputId": "7a9113d0-d690-4290-963b-b3fc9f93322e"
      },
      "execution_count": 4,
      "outputs": [
        {
          "output_type": "execute_result",
          "data": {
            "text/plain": [
              "array([10, 15, 20, 25, 30, 35, 40, 45])"
            ]
          },
          "metadata": {},
          "execution_count": 4
        }
      ]
    },
    {
      "cell_type": "code",
      "source": [
        "np.random.randint(1, 21, size=(3, 3))"
      ],
      "metadata": {
        "colab": {
          "base_uri": "https://localhost:8080/"
        },
        "id": "JOImktvjezwM",
        "outputId": "f7cbe20f-e5fa-49a1-da9b-89aa34dbe171"
      },
      "execution_count": 5,
      "outputs": [
        {
          "output_type": "execute_result",
          "data": {
            "text/plain": [
              "array([[17, 13, 11],\n",
              "       [ 4, 18, 13],\n",
              "       [ 9,  9, 11]])"
            ]
          },
          "metadata": {},
          "execution_count": 5
        }
      ]
    },
    {
      "cell_type": "code",
      "source": [
        "second_row = d2[1]\n",
        "print(\"Second row:\", second_row)\n",
        "\n",
        "column1 = d2[:, 0]\n",
        "print(\"First column:\", column1)\n",
        "\n",
        "subarray = d2[0:2, 1:3]\n",
        "print(\"Subarray (rows 1–2, columns 2–4):\", subarray)\n",
        "\n",
        "# Ensure arr is defined\n",
        "arr = np.arange(1, 13)\n",
        "\n",
        "arr_replaced = arr.copy()\n",
        "arr_replaced[arr_replaced % 2 == 0] = -1\n",
        "print(\"arr with even numbers replaced by -1:\", arr_replaced)"
      ],
      "metadata": {
        "colab": {
          "base_uri": "https://localhost:8080/"
        },
        "id": "vQBqzG4le-2l",
        "outputId": "7a2ee420-0baf-46be-9c5f-e414e4d38b21"
      },
      "execution_count": 6,
      "outputs": [
        {
          "output_type": "stream",
          "name": "stdout",
          "text": [
            "Second row: [4 5 6]\n",
            "First column: [ 1  4  7 10]\n",
            "Subarray (rows 1–2, columns 2–4): [[2 3]\n",
            " [5 6]]\n",
            "arr with even numbers replaced by -1: [ 1 -1  3 -1  5 -1  7 -1  9 -1 11 -1]\n"
          ]
        }
      ]
    },
    {
      "cell_type": "code",
      "source": [
        "a=np.array([1,2,3])\n",
        "b=np.array([4,5,6])\n",
        "\n",
        "print(\"sum=\", np.add(a, b),\n",
        "\t  \"subtraction=\", np.subtract(a, b),\n",
        "\t  \"multiplication=\", np.multiply(a, b),\n",
        "\t  \"division=\", np.divide(a, b))"
      ],
      "metadata": {
        "colab": {
          "base_uri": "https://localhost:8080/"
        },
        "id": "0lRRRkEqfE2v",
        "outputId": "ccbff87e-39bc-499d-9da7-b65d842b4d60"
      },
      "execution_count": 7,
      "outputs": [
        {
          "output_type": "stream",
          "name": "stdout",
          "text": [
            "sum= [5 7 9] subtraction= [-3 -3 -3] multiplication= [ 4 10 18] division= [0.25 0.4  0.5 ]\n"
          ]
        }
      ]
    },
    {
      "cell_type": "code",
      "source": [
        "\n",
        "arr=np.arange(1,13)\n",
        "arr\n",
        "arr.reshape(3,4)"
      ],
      "metadata": {
        "colab": {
          "base_uri": "https://localhost:8080/"
        },
        "id": "6lC1C8e-fNAV",
        "outputId": "6d430f6f-61ac-4f3a-fdd7-7f945e711bc6"
      },
      "execution_count": 8,
      "outputs": [
        {
          "output_type": "execute_result",
          "data": {
            "text/plain": [
              "array([[ 1,  2,  3,  4],\n",
              "       [ 5,  6,  7,  8],\n",
              "       [ 9, 10, 11, 12]])"
            ]
          },
          "metadata": {},
          "execution_count": 8
        }
      ]
    }
  ]
}