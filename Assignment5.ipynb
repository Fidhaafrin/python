{
  "nbformat": 4,
  "nbformat_minor": 0,
  "metadata": {
    "colab": {
      "provenance": []
    },
    "kernelspec": {
      "name": "python3",
      "display_name": "Python 3"
    },
    "language_info": {
      "name": "python"
    }
  },
  "cells": [
    {
      "cell_type": "code",
      "execution_count": 1,
      "metadata": {
        "colab": {
          "base_uri": "https://localhost:8080/"
        },
        "id": "lny47vp2MURr",
        "outputId": "10c1dfc6-0bdd-4569-8efc-75edcf6e36f0"
      },
      "outputs": [
        {
          "output_type": "stream",
          "name": "stdout",
          "text": [
            "Enter the number of classes held: 5\n",
            "Enter the number of classes attended: 8\n",
            "Your attendence is:  160.0\n",
            "You are allowed to sit in the exam.\n"
          ]
        }
      ],
      "source": [
        "number_of_class_held = int(input(\"Enter the number of classes held: \"))\n",
        "number_of_class_attended = int(input(\"Enter the number of classes attended: \"))\n",
        "\n",
        "atten=(number_of_class_attended/number_of_class_held)*100\n",
        "print(\"Your attendence is: \",atten)\n",
        "\n",
        "if atten>=75:\n",
        "    print(\"You are allowed to sit in the exam.\")\n",
        "else:\n",
        "    print(\"You are not allowed to sit in the exam.\")"
      ]
    },
    {
      "cell_type": "code",
      "source": [
        "def count_string(s,c):\n",
        "    count=0\n",
        "    for i in s:\n",
        "        if c==i:\n",
        "            count+=1\n",
        "\n",
        "    print(f\"character '{c}' appears {count} times in '{s}' this string\")\n",
        "\n",
        "s=input(\"Enter the String:\")\n",
        "c=input(\"Enter the character :\")\n",
        "\n",
        "count_string(s,c)"
      ],
      "metadata": {
        "colab": {
          "base_uri": "https://localhost:8080/"
        },
        "id": "6ZkqBgybMbfT",
        "outputId": "db1444fa-0a44-499e-8c77-47581ada3e5b"
      },
      "execution_count": 2,
      "outputs": [
        {
          "output_type": "stream",
          "name": "stdout",
          "text": [
            "Enter the String:7\n",
            "Enter the character :9\n",
            "character '9' appears 0 times in '7' this string\n"
          ]
        }
      ]
    },
    {
      "cell_type": "code",
      "source": [
        "def prime_num(n1, n2):\n",
        "    print(f\"Prime numbers between {n1} and {n2} are:\")\n",
        "    for num in range(n1, n2 + 1):\n",
        "        if num > 1:\n",
        "            for i in range(2, int(num**0.5) + 1):\n",
        "                if num % i == 0:\n",
        "                    break\n",
        "            else:\n",
        "                print(num)\n",
        "\n",
        "prime_num(2, 10)"
      ],
      "metadata": {
        "colab": {
          "base_uri": "https://localhost:8080/"
        },
        "id": "fxhyO7CmMgXk",
        "outputId": "1b5fb3a6-1bef-46a3-8341-051bc174eae6"
      },
      "execution_count": 3,
      "outputs": [
        {
          "output_type": "stream",
          "name": "stdout",
          "text": [
            "Prime numbers between 2 and 10 are:\n",
            "2\n",
            "3\n",
            "5\n",
            "7\n"
          ]
        }
      ]
    },
    {
      "cell_type": "code",
      "source": [
        "def gcd(a, b):\n",
        "    gcd_val = 1\n",
        "    for i in range(1, min(a, b) + 1):\n",
        "        if a % i == 0 and b % i == 0:\n",
        "            gcd_val = i\n",
        "    print(gcd_val)\n",
        "\n",
        "print(gcd(48, 18))"
      ],
      "metadata": {
        "colab": {
          "base_uri": "https://localhost:8080/"
        },
        "id": "Bcjdm5-DMmAy",
        "outputId": "a4c15200-6d55-415a-95b9-887a3c482bf0"
      },
      "execution_count": 4,
      "outputs": [
        {
          "output_type": "stream",
          "name": "stdout",
          "text": [
            "6\n",
            "None\n"
          ]
        }
      ]
    },
    {
      "cell_type": "code",
      "source": [
        "def lcm(a, b):\n",
        "    greater = max(a, b)\n",
        "    for i in range(greater, (a * b) + 1):\n",
        "        if i % a == 0 and i % b == 0:\n",
        "            return i\n",
        "\n",
        "print(lcm(12, 18))"
      ],
      "metadata": {
        "colab": {
          "base_uri": "https://localhost:8080/"
        },
        "id": "MHAZRo8zMpFN",
        "outputId": "2b34614f-7b4c-46d3-bf58-0fa2908ed2bb"
      },
      "execution_count": 5,
      "outputs": [
        {
          "output_type": "stream",
          "name": "stdout",
          "text": [
            "36\n"
          ]
        }
      ]
    },
    {
      "cell_type": "code",
      "source": [
        "def binary(n):\n",
        "    print(bin(n))\n",
        "\n",
        "binary(5)"
      ],
      "metadata": {
        "colab": {
          "base_uri": "https://localhost:8080/"
        },
        "id": "zBfKt2V9MsCG",
        "outputId": "0c9f30d8-b407-4a33-98c8-82d759d59510"
      },
      "execution_count": 6,
      "outputs": [
        {
          "output_type": "stream",
          "name": "stdout",
          "text": [
            "0b101\n"
          ]
        }
      ]
    },
    {
      "cell_type": "code",
      "source": [
        "def star_pyramid(rows):\n",
        "    for i in range(5):\n",
        "        for j in range(i+1):\n",
        "            print(\"*\", end=\"\")\n",
        "        print()\n",
        "\n",
        "star_pyramid(5)"
      ],
      "metadata": {
        "colab": {
          "base_uri": "https://localhost:8080/"
        },
        "id": "btrY6x6xMvq7",
        "outputId": "750f97a5-d502-420b-e6b0-6cbe8bafe929"
      },
      "execution_count": 7,
      "outputs": [
        {
          "output_type": "stream",
          "name": "stdout",
          "text": [
            "*\n",
            "**\n",
            "***\n",
            "****\n",
            "*****\n"
          ]
        }
      ]
    },
    {
      "cell_type": "code",
      "source": [
        "def is_perfect(num):\n",
        "    if num < 2:\n",
        "        return False\n",
        "    sum_of_factors = 0\n",
        "    for i in range(1, num):\n",
        "        if num % i == 0:\n",
        "            sum_of_factors += i\n",
        "    print(sum_of_factors == num)\n",
        "\n",
        "is_perfect(6)\n",
        "is_perfect(28)\n",
        "is_perfect(12)"
      ],
      "metadata": {
        "colab": {
          "base_uri": "https://localhost:8080/"
        },
        "id": "JWDkOEbwMynE",
        "outputId": "7faa6856-2b25-4bd7-96af-ce906ab08ff7"
      },
      "execution_count": 8,
      "outputs": [
        {
          "output_type": "stream",
          "name": "stdout",
          "text": [
            "True\n",
            "True\n",
            "False\n"
          ]
        }
      ]
    },
    {
      "cell_type": "code",
      "source": [
        "def digit_frequency(num):\n",
        "    num_str = str(num)\n",
        "    freq = {}\n",
        "\n",
        "    for digit in num_str:\n",
        "        if digit in freq:\n",
        "            freq[digit] += 1\n",
        "        else:\n",
        "            freq[digit] = 1\n",
        "\n",
        "    print(f\"Digit frequencies in {num}:\")\n",
        "    for digit, count in freq.items():\n",
        "        print(f\"{digit} → {count}\")\n",
        "\n",
        "digit_frequency(112345551)"
      ],
      "metadata": {
        "colab": {
          "base_uri": "https://localhost:8080/"
        },
        "id": "c7ccgkY7M1n6",
        "outputId": "a808f9d7-a2db-43c2-dfe4-e0f61402507b"
      },
      "execution_count": 9,
      "outputs": [
        {
          "output_type": "stream",
          "name": "stdout",
          "text": [
            "Digit frequencies in 112345551:\n",
            "1 → 3\n",
            "2 → 1\n",
            "3 → 1\n",
            "4 → 1\n",
            "5 → 3\n"
          ]
        }
      ]
    },
    {
      "cell_type": "code",
      "source": [
        "\n",
        "def reverse_words(sentence):\n",
        "    words = sentence.split()\n",
        "    reversed_sentence = \" \".join(words[::-1])\n",
        "    print(reversed_sentence)\n",
        "\n",
        "reverse_words(\"Hello World\")"
      ],
      "metadata": {
        "colab": {
          "base_uri": "https://localhost:8080/"
        },
        "id": "8TMEAHoVM4s7",
        "outputId": "b2da4c48-4540-4606-a00b-8c501e442a78"
      },
      "execution_count": 10,
      "outputs": [
        {
          "output_type": "stream",
          "name": "stdout",
          "text": [
            "World Hello\n"
          ]
        }
      ]
    },
    {
      "cell_type": "code",
      "source": [
        "def second_largest(lst):\n",
        "    s = list(set(lst))\n",
        "    if len(s) < 2:\n",
        "        print(None)\n",
        "    else:\n",
        "        s.sort(reverse=True)\n",
        "        print(s[1])\n",
        "\n",
        "second_largest([10, 20, 4, 45, 99])"
      ],
      "metadata": {
        "colab": {
          "base_uri": "https://localhost:8080/"
        },
        "id": "MWlqCNS1M93v",
        "outputId": "95d5fd6d-b2dc-4596-d454-963fce7ccd78"
      },
      "execution_count": 11,
      "outputs": [
        {
          "output_type": "stream",
          "name": "stdout",
          "text": [
            "45\n"
          ]
        }
      ]
    }
  ]
}